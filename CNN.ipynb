{
 "cells": [
  {
   "cell_type": "code",
   "execution_count": 1,
   "id": "d3c0f8a5-4c07-4925-8a86-0e473dcebf09",
   "metadata": {},
   "outputs": [],
   "source": [
    "import cv2"
   ]
  },
  {
   "cell_type": "code",
   "execution_count": 3,
   "id": "f6daa984-0abb-4f78-8bdf-85fee64ae81a",
   "metadata": {},
   "outputs": [],
   "source": [
    "img = cv2.imread(r\"/Users/yusufkhan/Desktop/self_img.jpeg\")"
   ]
  },
  {
   "cell_type": "code",
   "execution_count": null,
   "id": "0ca95ad0-4336-40b5-9f39-0886ac262a85",
   "metadata": {},
   "outputs": [
    {
     "name": "stderr",
     "output_type": "stream",
     "text": [
      "2025-04-07 17:32:59.591 python[6007:560431] Warning: Window move completed without beginning\n"
     ]
    }
   ],
   "source": [
    "cv2.imshow('Image',img)\n",
    "cv2.waitKey(0)\n",
    "cv.destroyAllWindows()"
   ]
  },
  {
   "cell_type": "code",
   "execution_count": null,
   "id": "ec4257c3-6a1f-4f76-a60b-c3428443aa3d",
   "metadata": {},
   "outputs": [],
   "source": [
    "# draw square \n",
    "top_left = (100, 100)\n",
    "bottom_right = (50,50)\n",
    "cv2.rectangle(img, top_left, bottom_right, color = (120,255,128), thickness = 2)\n",
    "cv2.imshow('Image',img)\n",
    "cv2.waitKey(0)\n",
    "cv.destroyAllWindows()"
   ]
  },
  {
   "cell_type": "code",
   "execution_count": null,
   "id": "6f508858-e898-4c5a-979d-dd33cc60379a",
   "metadata": {},
   "outputs": [],
   "source": []
  },
  {
   "cell_type": "code",
   "execution_count": null,
   "id": "b638930c-5fd7-4dc4-9be1-5a89b60c3ac5",
   "metadata": {},
   "outputs": [],
   "source": []
  }
 ],
 "metadata": {
  "kernelspec": {
   "display_name": "Python 3 (ipykernel)",
   "language": "python",
   "name": "python3"
  },
  "language_info": {
   "codemirror_mode": {
    "name": "ipython",
    "version": 3
   },
   "file_extension": ".py",
   "mimetype": "text/x-python",
   "name": "python",
   "nbconvert_exporter": "python",
   "pygments_lexer": "ipython3",
   "version": "3.12.4"
  }
 },
 "nbformat": 4,
 "nbformat_minor": 5
}
